{
 "cells": [
  {
   "cell_type": "code",
   "execution_count": 7,
   "metadata": {
    "colab": {
     "base_uri": "https://localhost:8080/",
     "height": 1000
    },
    "colab_type": "code",
    "id": "mN8k4-AktSjK",
    "outputId": "284f4b0d-59b9-4890-ed0e-ce165b087f7a"
   },
   "outputs": [
    {
     "name": "stdout",
     "output_type": "stream",
     "text": [
      "Requirement already satisfied: pennylane in /usr/local/lib/python3.6/dist-packages (0.9.0)\n",
      "Requirement already satisfied: StrawberryFields in /usr/local/lib/python3.6/dist-packages (0.14.0)\n",
      "Requirement already satisfied: tensorflow-hub in /usr/local/lib/python3.6/dist-packages (0.8.0)\n",
      "Requirement already satisfied: tensorflow_text in /usr/local/lib/python3.6/dist-packages (2.2.1)\n",
      "Requirement already satisfied: emoji in /usr/local/lib/python3.6/dist-packages (0.5.4)\n",
      "Requirement already satisfied: pythainlp in /usr/local/lib/python3.6/dist-packages (2.1.4)\n",
      "Requirement already satisfied: pennylane-sf in /usr/local/lib/python3.6/dist-packages (0.9.0)\n",
      "Collecting plotnine\n",
      "\u001b[?25l  Downloading https://files.pythonhosted.org/packages/aa/ee/9f343ef0719541e02950384978722ea84cc433264cece09a11a0cccb2bf9/plotnine-0.7.0-py3-none-any.whl (4.4MB)\n",
      "\u001b[K     |████████████████████████████████| 4.4MB 977kB/s eta 0:00:01\n",
      "\u001b[?25hRequirement already satisfied: autograd in /usr/local/lib/python3.6/dist-packages (from pennylane) (1.3)\n",
      "Requirement already satisfied: networkx in /usr/local/lib/python3.6/dist-packages (from pennylane) (2.4)\n",
      "Requirement already satisfied: toml in /usr/local/lib/python3.6/dist-packages (from pennylane) (0.10.1)\n",
      "Requirement already satisfied: scipy in /usr/local/lib/python3.6/dist-packages (from pennylane) (1.3.1)\n",
      "Requirement already satisfied: semantic-version==2.6 in /usr/local/lib/python3.6/dist-packages (from pennylane) (2.6.0)\n",
      "Requirement already satisfied: appdirs in /usr/local/lib/python3.6/dist-packages (from pennylane) (1.4.4)\n",
      "Requirement already satisfied: numpy in /usr/local/lib/python3.6/dist-packages (from pennylane) (1.17.4)\n",
      "Requirement already satisfied: quantum-blackbird>=0.2.3 in /usr/local/lib/python3.6/dist-packages (from StrawberryFields) (0.2.4)\n",
      "Requirement already satisfied: python-dateutil>=2.8.0 in /usr/local/lib/python3.6/dist-packages (from StrawberryFields) (2.8.1)\n",
      "Requirement already satisfied: requests>=2.22.0 in /usr/local/lib/python3.6/dist-packages (from StrawberryFields) (2.22.0)\n",
      "Requirement already satisfied: thewalrus>=0.12 in /usr/local/lib/python3.6/dist-packages (from StrawberryFields) (0.12.0)\n",
      "Requirement already satisfied: urllib3>=1.25.3 in /usr/local/lib/python3.6/dist-packages (from StrawberryFields) (1.25.7)\n",
      "Requirement already satisfied: numba in /usr/local/lib/python3.6/dist-packages (from StrawberryFields) (0.49.1)\n",
      "Requirement already satisfied: sympy>=1.5 in /usr/local/lib/python3.6/dist-packages (from StrawberryFields) (1.6)\n",
      "Requirement already satisfied: six>=1.12.0 in /usr/local/lib/python3.6/dist-packages (from tensorflow-hub) (1.13.0)\n",
      "Requirement already satisfied: protobuf>=3.8.0 in /usr/local/lib/python3.6/dist-packages (from tensorflow-hub) (3.10.0)\n",
      "Requirement already satisfied: tensorflow<2.3,>=2.2.0 in /usr/local/lib/python3.6/dist-packages (from tensorflow_text) (2.2.0)\n",
      "Requirement already satisfied: nltk>=3.3 in /usr/local/lib/python3.6/dist-packages (from pythainlp) (3.4.5)\n",
      "Requirement already satisfied: dill>=0.3.0 in /usr/local/lib/python3.6/dist-packages (from pythainlp) (0.3.1.1)\n",
      "Requirement already satisfied: tqdm>=4.1 in /usr/local/lib/python3.6/dist-packages (from pythainlp) (4.38.0)\n",
      "Requirement already satisfied: tinydb>=3.0 in /usr/local/lib/python3.6/dist-packages (from pythainlp) (3.15.2)\n",
      "Collecting mizani>=0.7.1\n",
      "\u001b[?25l  Downloading https://files.pythonhosted.org/packages/57/29/72ed07818b1cd7f79340d55c7230748238e09c35fc8461c545a5d350006d/mizani-0.7.1-py3-none-any.whl (62kB)\n",
      "\u001b[K     |████████████████████████████████| 71kB 11.1MB/s eta 0:00:01\n",
      "\u001b[?25hCollecting statsmodels>=0.11.1\n",
      "\u001b[?25l  Downloading https://files.pythonhosted.org/packages/cb/83/540fd83238a18abe6c2d280fa8e489ac5fcefa1f370f0ca1acd16ae1b860/statsmodels-0.11.1-cp36-cp36m-manylinux1_x86_64.whl (8.7MB)\n",
      "\u001b[K     |████████████████████████████████| 8.7MB 11.3MB/s eta 0:00:01\n",
      "\u001b[?25hRequirement already satisfied: matplotlib>=3.1.1 in /usr/local/lib/python3.6/dist-packages (from plotnine) (3.2.1)\n",
      "Collecting patsy>=0.5.1\n",
      "\u001b[?25l  Downloading https://files.pythonhosted.org/packages/ea/0c/5f61f1a3d4385d6bf83b83ea495068857ff8dfb89e74824c6e9eb63286d8/patsy-0.5.1-py2.py3-none-any.whl (231kB)\n",
      "\u001b[K     |████████████████████████████████| 235kB 29.0MB/s eta 0:00:01\n",
      "\u001b[?25hCollecting descartes>=1.1.0\n",
      "  Downloading https://files.pythonhosted.org/packages/e5/b6/1ed2eb03989ae574584664985367ba70cd9cf8b32ee8cad0e8aaeac819f3/descartes-1.1.0-py3-none-any.whl\n",
      "Requirement already satisfied: pandas>=1.0.3 in /usr/local/lib/python3.6/dist-packages (from plotnine) (1.0.3)\n",
      "Requirement already satisfied: future>=0.15.2 in /usr/local/lib/python3.6/dist-packages (from autograd->pennylane) (0.17.1)\n",
      "Requirement already satisfied: decorator>=4.3.0 in /usr/local/lib/python3.6/dist-packages (from networkx->pennylane) (4.4.1)\n",
      "Requirement already satisfied: antlr4-python3-runtime==4.7.2 in /usr/local/lib/python3.6/dist-packages (from quantum-blackbird>=0.2.3->StrawberryFields) (4.7.2)\n",
      "Requirement already satisfied: chardet<3.1.0,>=3.0.2 in /usr/local/lib/python3.6/dist-packages (from requests>=2.22.0->StrawberryFields) (3.0.4)\n",
      "Requirement already satisfied: certifi>=2017.4.17 in /usr/local/lib/python3.6/dist-packages (from requests>=2.22.0->StrawberryFields) (2019.9.11)\n",
      "Requirement already satisfied: idna<2.9,>=2.5 in /usr/local/lib/python3.6/dist-packages (from requests>=2.22.0->StrawberryFields) (2.8)\n",
      "Requirement already satisfied: dask[delayed] in /usr/local/lib/python3.6/dist-packages (from thewalrus>=0.12->StrawberryFields) (2.18.1)\n",
      "Requirement already satisfied: llvmlite<=0.33.0.dev0,>=0.31.0.dev0 in /usr/local/lib/python3.6/dist-packages (from numba->StrawberryFields) (0.32.1)\n",
      "Requirement already satisfied: setuptools in /usr/local/lib/python3.6/dist-packages (from numba->StrawberryFields) (41.6.0)\n",
      "Requirement already satisfied: mpmath>=0.19 in /usr/local/lib/python3.6/dist-packages (from sympy>=1.5->StrawberryFields) (1.1.0)\n",
      "Requirement already satisfied: absl-py>=0.7.0 in /usr/local/lib/python3.6/dist-packages (from tensorflow<2.3,>=2.2.0->tensorflow_text) (0.8.1)\n",
      "Requirement already satisfied: grpcio>=1.8.6 in /usr/local/lib/python3.6/dist-packages (from tensorflow<2.3,>=2.2.0->tensorflow_text) (1.25.0)\n",
      "Requirement already satisfied: tensorflow-estimator<2.3.0,>=2.2.0 in /usr/local/lib/python3.6/dist-packages (from tensorflow<2.3,>=2.2.0->tensorflow_text) (2.2.0)\n",
      "Requirement already satisfied: termcolor>=1.1.0 in /usr/local/lib/python3.6/dist-packages (from tensorflow<2.3,>=2.2.0->tensorflow_text) (1.1.0)\n",
      "Requirement already satisfied: keras-preprocessing>=1.1.0 in /usr/local/lib/python3.6/dist-packages (from tensorflow<2.3,>=2.2.0->tensorflow_text) (1.1.2)\n",
      "Requirement already satisfied: google-pasta>=0.1.8 in /usr/local/lib/python3.6/dist-packages (from tensorflow<2.3,>=2.2.0->tensorflow_text) (0.1.8)\n",
      "Requirement already satisfied: astunparse==1.6.3 in /usr/local/lib/python3.6/dist-packages (from tensorflow<2.3,>=2.2.0->tensorflow_text) (1.6.3)\n",
      "Requirement already satisfied: wrapt>=1.11.1 in /usr/local/lib/python3.6/dist-packages (from tensorflow<2.3,>=2.2.0->tensorflow_text) (1.11.2)\n",
      "Requirement already satisfied: h5py<2.11.0,>=2.10.0 in /usr/local/lib/python3.6/dist-packages (from tensorflow<2.3,>=2.2.0->tensorflow_text) (2.10.0)\n",
      "Requirement already satisfied: gast==0.3.3 in /usr/local/lib/python3.6/dist-packages (from tensorflow<2.3,>=2.2.0->tensorflow_text) (0.3.3)\n",
      "Requirement already satisfied: tensorboard<2.3.0,>=2.2.0 in /usr/local/lib/python3.6/dist-packages (from tensorflow<2.3,>=2.2.0->tensorflow_text) (2.2.2)\n",
      "Requirement already satisfied: opt-einsum>=2.3.2 in /usr/local/lib/python3.6/dist-packages (from tensorflow<2.3,>=2.2.0->tensorflow_text) (3.1.0)\n",
      "Requirement already satisfied: wheel>=0.26; python_version >= \"3\" in /usr/local/lib/python3.6/dist-packages (from tensorflow<2.3,>=2.2.0->tensorflow_text) (0.33.6)\n",
      "Collecting palettable\n",
      "\u001b[?25l  Downloading https://files.pythonhosted.org/packages/ca/46/5198aa24e61bb7eef28d06cb69e56bfa1942f4b6807d95a0b5ce361fe09b/palettable-3.3.0-py2.py3-none-any.whl (111kB)\n",
      "\u001b[K     |████████████████████████████████| 112kB 23.6MB/s eta 0:00:01\n",
      "\u001b[?25hRequirement already satisfied: kiwisolver>=1.0.1 in /usr/local/lib/python3.6/dist-packages (from matplotlib>=3.1.1->plotnine) (1.2.0)\n",
      "Requirement already satisfied: pyparsing!=2.0.4,!=2.1.2,!=2.1.6,>=2.0.1 in /usr/local/lib/python3.6/dist-packages (from matplotlib>=3.1.1->plotnine) (2.4.7)\n",
      "Requirement already satisfied: cycler>=0.10 in /usr/local/lib/python3.6/dist-packages (from matplotlib>=3.1.1->plotnine) (0.10.0)\n",
      "Requirement already satisfied: pytz>=2017.2 in /usr/local/lib/python3.6/dist-packages (from pandas>=1.0.3->plotnine) (2019.3)\n",
      "Requirement already satisfied: pyyaml in /usr/local/lib/python3.6/dist-packages (from dask[delayed]->thewalrus>=0.12->StrawberryFields) (5.1.2)\n",
      "Requirement already satisfied: toolz>=0.8.2; extra == \"delayed\" in /usr/local/lib/python3.6/dist-packages (from dask[delayed]->thewalrus>=0.12->StrawberryFields) (0.10.0)\n",
      "Requirement already satisfied: cloudpickle>=0.2.2; extra == \"delayed\" in /opt/tensorflow/horovod-source/.eggs/cloudpickle-1.2.2-py3.6.egg (from dask[delayed]->thewalrus>=0.12->StrawberryFields) (1.2.2)\n",
      "Requirement already satisfied: google-auth-oauthlib<0.5,>=0.4.1 in /usr/local/lib/python3.6/dist-packages (from tensorboard<2.3.0,>=2.2.0->tensorflow<2.3,>=2.2.0->tensorflow_text) (0.4.1)\n",
      "Requirement already satisfied: google-auth<2,>=1.6.3 in /usr/local/lib/python3.6/dist-packages (from tensorboard<2.3.0,>=2.2.0->tensorflow<2.3,>=2.2.0->tensorflow_text) (1.7.0)\n",
      "Requirement already satisfied: tensorboard-plugin-wit>=1.6.0 in /usr/local/lib/python3.6/dist-packages (from tensorboard<2.3.0,>=2.2.0->tensorflow<2.3,>=2.2.0->tensorflow_text) (1.6.0.post3)\n"
     ]
    },
    {
     "name": "stdout",
     "output_type": "stream",
     "text": [
      "Requirement already satisfied: markdown>=2.6.8 in /usr/local/lib/python3.6/dist-packages (from tensorboard<2.3.0,>=2.2.0->tensorflow<2.3,>=2.2.0->tensorflow_text) (3.1.1)\n",
      "Requirement already satisfied: werkzeug>=0.11.15 in /usr/local/lib/python3.6/dist-packages (from tensorboard<2.3.0,>=2.2.0->tensorflow<2.3,>=2.2.0->tensorflow_text) (0.16.0)\n",
      "Requirement already satisfied: requests-oauthlib>=0.7.0 in /usr/local/lib/python3.6/dist-packages (from google-auth-oauthlib<0.5,>=0.4.1->tensorboard<2.3.0,>=2.2.0->tensorflow<2.3,>=2.2.0->tensorflow_text) (1.3.0)\n",
      "Requirement already satisfied: cachetools<3.2,>=2.0.0 in /usr/local/lib/python3.6/dist-packages (from google-auth<2,>=1.6.3->tensorboard<2.3.0,>=2.2.0->tensorflow<2.3,>=2.2.0->tensorflow_text) (3.1.1)\n",
      "Requirement already satisfied: pyasn1-modules>=0.2.1 in /usr/local/lib/python3.6/dist-packages (from google-auth<2,>=1.6.3->tensorboard<2.3.0,>=2.2.0->tensorflow<2.3,>=2.2.0->tensorflow_text) (0.2.7)\n",
      "Requirement already satisfied: rsa<4.1,>=3.1.4 in /usr/local/lib/python3.6/dist-packages (from google-auth<2,>=1.6.3->tensorboard<2.3.0,>=2.2.0->tensorflow<2.3,>=2.2.0->tensorflow_text) (4.0)\n",
      "Requirement already satisfied: oauthlib>=3.0.0 in /usr/local/lib/python3.6/dist-packages (from requests-oauthlib>=0.7.0->google-auth-oauthlib<0.5,>=0.4.1->tensorboard<2.3.0,>=2.2.0->tensorflow<2.3,>=2.2.0->tensorflow_text) (3.1.0)\n",
      "Requirement already satisfied: pyasn1<0.5.0,>=0.4.6 in /usr/local/lib/python3.6/dist-packages (from pyasn1-modules>=0.2.1->google-auth<2,>=1.6.3->tensorboard<2.3.0,>=2.2.0->tensorflow<2.3,>=2.2.0->tensorflow_text) (0.4.7)\n",
      "Installing collected packages: palettable, mizani, patsy, statsmodels, descartes, plotnine\n",
      "Successfully installed descartes-1.1.0 mizani-0.7.1 palettable-3.3.0 patsy-0.5.1 plotnine-0.7.0 statsmodels-0.11.1\n",
      "\u001b[33mWARNING: You are using pip version 19.3.1; however, version 20.1.1 is available.\n",
      "You should consider upgrading via the 'pip install --upgrade pip' command.\u001b[0m\n"
     ]
    }
   ],
   "source": [
    "!pip install pennylane StrawberryFields tensorflow-hub tensorflow_text emoji pythainlp pennylane-sf  plotnine"
   ]
  },
  {
   "cell_type": "code",
   "execution_count": 2,
   "metadata": {
    "colab": {
     "base_uri": "https://localhost:8080/",
     "height": 555
    },
    "colab_type": "code",
    "id": "VmBAKhqIt6I0",
    "outputId": "172b0793-16d7-4cb6-d9ea-b545c2aaf1cb"
   },
   "outputs": [
    {
     "name": "stdout",
     "output_type": "stream",
     "text": [
      "--2020-06-11 03:12:29--  https://github.com/PyThaiNLP/truevoice-intent/archive/master.zip\n",
      "Resolving github.com (github.com)... 52.74.223.119\n",
      "Connecting to github.com (github.com)|52.74.223.119|:443... connected.\n",
      "HTTP request sent, awaiting response... 302 Found\n",
      "Location: https://codeload.github.com/PyThaiNLP/truevoice-intent/zip/master [following]\n",
      "--2020-06-11 03:12:30--  https://codeload.github.com/PyThaiNLP/truevoice-intent/zip/master\n",
      "Resolving codeload.github.com (codeload.github.com)... 13.229.189.0\n",
      "Connecting to codeload.github.com (codeload.github.com)|13.229.189.0|:443... connected.\n",
      "HTTP request sent, awaiting response... 200 OK\n",
      "Length: unspecified [application/zip]\n",
      "Saving to: ‘master.zip’\n",
      "\n",
      "master.zip              [    <=>             ]   1.29M  2.07MB/s    in 0.6s    \n",
      "\n",
      "2020-06-11 03:12:31 (2.07 MB/s) - ‘master.zip’ saved [1350596]\n",
      "\n",
      "Archive:  master.zip\n",
      "7ce601a547a4bac938b3bb0640a6036f7b89266c\n",
      "   creating: truevoice-intent-master/\n",
      "  inflating: truevoice-intent-master/.gitignore  \n",
      "  inflating: truevoice-intent-master/LICENSE  \n",
      "  inflating: truevoice-intent-master/README.md  \n",
      "  inflating: truevoice-intent-master/class_features.py  \n",
      "  inflating: truevoice-intent-master/classification.ipynb  \n",
      "  inflating: truevoice-intent-master/exploration.ipynb  \n",
      " extracting: truevoice-intent-master/mari-intent.zip  \n",
      "  inflating: truevoice-intent-master/remove-dup-split.ipynb  \n",
      "  inflating: truevoice-intent-master/thsarabunnew-webfont.ttf  \n",
      "Archive:  mari-intent.zip\n",
      "  inflating: mari-train-balanced.csv  \n",
      "  inflating: mari-test-balanced.csv  \n"
     ]
    }
   ],
   "source": [
    "!wget https://github.com/PyThaiNLP/truevoice-intent/archive/master.zip; unzip master.zip; cd truevoice-intent-master; unzip mari-intent.zip; cp *.* ../;"
   ]
  },
  {
   "cell_type": "code",
   "execution_count": 3,
   "metadata": {
    "colab": {},
    "colab_type": "code",
    "id": "B07iEGFduQU8"
   },
   "outputs": [],
   "source": [
    "!mkdir ft_data\n",
    "!mkdir truevoice_data"
   ]
  },
  {
   "cell_type": "code",
   "execution_count": 4,
   "metadata": {
    "colab": {
     "base_uri": "https://localhost:8080/",
     "height": 295
    },
    "colab_type": "code",
    "id": "MIvnwrquuwDr",
    "outputId": "9b560faf-a8f2-416a-8601-299013ebffcd"
   },
   "outputs": [
    {
     "name": "stdout",
     "output_type": "stream",
     "text": [
      "--2020-06-11 03:12:33--  https://github.com/rdisipio/qnlp/raw/master/models.py\n",
      "Resolving github.com (github.com)... 52.74.223.119\n",
      "Connecting to github.com (github.com)|52.74.223.119|:443... connected.\n",
      "HTTP request sent, awaiting response... 302 Found\n",
      "Location: https://raw.githubusercontent.com/rdisipio/qnlp/master/models.py [following]\n",
      "--2020-06-11 03:12:34--  https://raw.githubusercontent.com/rdisipio/qnlp/master/models.py\n",
      "Resolving raw.githubusercontent.com (raw.githubusercontent.com)... 151.101.8.133\n",
      "Connecting to raw.githubusercontent.com (raw.githubusercontent.com)|151.101.8.133|:443... connected.\n",
      "HTTP request sent, awaiting response... 200 OK\n",
      "Length: 1212 (1.2K) [text/plain]\n",
      "Saving to: ‘models.py’\n",
      "\n",
      "models.py           100%[===================>]   1.18K  --.-KB/s    in 0s      \n",
      "\n",
      "2020-06-11 03:12:34 (71.3 MB/s) - ‘models.py’ saved [1212/1212]\n",
      "\n"
     ]
    }
   ],
   "source": [
    "!wget https://github.com/rdisipio/qnlp/raw/master/models.py"
   ]
  },
  {
   "cell_type": "code",
   "execution_count": 5,
   "metadata": {
    "colab": {
     "base_uri": "https://localhost:8080/",
     "height": 295
    },
    "colab_type": "code",
    "id": "eb7iz_qAuuLd",
    "outputId": "5d831155-91c4-4eee-86ab-7618a618c564"
   },
   "outputs": [
    {
     "name": "stdout",
     "output_type": "stream",
     "text": [
      "--2020-06-11 03:12:35--  https://github.com/rdisipio/qnlp/raw/master/models_quantum.py\n",
      "Resolving github.com (github.com)... 52.74.223.119\n",
      "Connecting to github.com (github.com)|52.74.223.119|:443... connected.\n",
      "HTTP request sent, awaiting response... 302 Found\n",
      "Location: https://raw.githubusercontent.com/rdisipio/qnlp/master/models_quantum.py [following]\n",
      "--2020-06-11 03:12:35--  https://raw.githubusercontent.com/rdisipio/qnlp/master/models_quantum.py\n",
      "Resolving raw.githubusercontent.com (raw.githubusercontent.com)... 151.101.8.133\n",
      "Connecting to raw.githubusercontent.com (raw.githubusercontent.com)|151.101.8.133|:443... connected.\n",
      "HTTP request sent, awaiting response... 200 OK\n",
      "Length: 8498 (8.3K) [text/plain]\n",
      "Saving to: ‘models_quantum.py’\n",
      "\n",
      "models_quantum.py   100%[===================>]   8.30K  --.-KB/s    in 0s      \n",
      "\n",
      "2020-06-11 03:12:36 (41.7 MB/s) - ‘models_quantum.py’ saved [8498/8498]\n",
      "\n"
     ]
    }
   ],
   "source": [
    "!wget https://github.com/rdisipio/qnlp/raw/master/models_quantum.py"
   ]
  },
  {
   "cell_type": "code",
   "execution_count": 33,
   "metadata": {
    "colab": {},
    "colab_type": "code",
    "id": "ErYBOxIauVOZ"
   },
   "outputs": [],
   "source": [
    "import pandas as pd\n",
    "import numpy as np\n",
    "from pythainlp import word_tokenize\n",
    "from tqdm import tqdm_notebook\n",
    "from collections import Counter\n",
    "import re\n",
    "from sklearn.metrics import f1_score,precision_score,recall_score\n",
    "\n",
    "#viz\n",
    "from plotnine import *\n",
    "import matplotlib.pyplot as plt\n",
    "import seaborn as sns\n",
    "\n",
    "def replace_newline(t):\n",
    "    return re.sub('[\\n]{1,}', ' ', t)\n",
    "\n",
    "ft_data = 'ft_data/'\n",
    "\n",
    "y = 'destination'\n",
    "nb_class = 7"
   ]
  },
  {
   "cell_type": "code",
   "execution_count": 34,
   "metadata": {
    "colab": {},
    "colab_type": "code",
    "id": "AH7tsmORuYEX"
   },
   "outputs": [],
   "source": [
    "import string\n",
    "import emoji\n",
    "def replace_url(text):\n",
    "    URL_PATTERN = r\"\"\"(?i)\\b((?:https?:(?:/{1,3}|[a-z0-9%])|[a-z0-9.\\-]+[.](?:com|net|org|edu|gov|mil|aero|asia|biz|cat|coop|info|int|jobs|mobi|museum|name|post|pro|tel|travel|xxx|ac|ad|ae|af|ag|ai|al|am|an|ao|aq|ar|as|at|au|aw|ax|az|ba|bb|bd|be|bf|bg|bh|bi|bj|bm|bn|bo|br|bs|bt|bv|bw|by|bz|ca|cc|cd|cf|cg|ch|ci|ck|cl|cm|cn|co|cr|cs|cu|cv|cx|cy|cz|dd|de|dj|dk|dm|do|dz|ec|ee|eg|eh|er|es|et|eu|fi|fj|fk|fm|fo|fr|ga|gb|gd|ge|gf|gg|gh|gi|gl|gm|gn|gp|gq|gr|gs|gt|gu|gw|gy|hk|hm|hn|hr|ht|hu|id|ie|il|im|in|io|iq|ir|is|it|je|jm|jo|jp|ke|kg|kh|ki|km|kn|kp|kr|kw|ky|kz|la|lb|lc|li|lk|lr|ls|lt|lu|lv|ly|ma|mc|md|me|mg|mh|mk|ml|mm|mn|mo|mp|mq|mr|ms|mt|mu|mv|mw|mx|my|mz|na|nc|ne|nf|ng|ni|nl|no|np|nr|nu|nz|om|pa|pe|pf|pg|ph|pk|pl|pm|pn|pr|ps|pt|pw|py|qa|re|ro|rs|ru|rw|sa|sb|sc|sd|se|sg|sh|si|sj|Ja|sk|sl|sm|sn|so|sr|ss|st|su|sv|sx|sy|sz|tc|td|tf|tg|th|tj|tk|tl|tm|tn|to|tp|tr|tt|tv|tw|tz|ua|ug|uk|us|uy|uz|va|vc|ve|vg|vi|vn|vu|wf|ws|ye|yt|yu|za|zm|zw)/)(?:[^\\s()<>{}\\[\\]]+|\\([^\\s()]*?\\([^\\s()]+\\)[^\\s()]*?\\)|\\([^\\s]+?\\))+(?:\\([^\\s()]*?\\([^\\s()]+\\)[^\\s()]*?\\)|\\([^\\s]+?\\)|[^\\s`!()\\[\\]{};:'\".,<>?«»“”‘’])|(?:(?<!@)[a-z0-9]+(?:[.\\-][a-z0-9]+)*[.](?:com|net|org|edu|gov|mil|aero|asia|biz|cat|coop|info|int|jobs|mobi|museum|name|post|pro|tel|travel|xxx|ac|ad|ae|af|ag|ai|al|am|an|ao|aq|ar|as|at|au|aw|ax|az|ba|bb|bd|be|bf|bg|bh|bi|bj|bm|bn|bo|br|bs|bt|bv|bw|by|bz|ca|cc|cd|cf|cg|ch|ci|ck|cl|cm|cn|co|cr|cs|cu|cv|cx|cy|cz|dd|de|dj|dk|dm|do|dz|ec|ee|eg|eh|er|es|et|eu|fi|fj|fk|fm|fo|fr|ga|gb|gd|ge|gf|gg|gh|gi|gl|gm|gn|gp|gq|gr|gs|gt|gu|gw|gy|hk|hm|hn|hr|ht|hu|id|ie|il|im|in|io|iq|ir|is|it|je|jm|jo|jp|ke|kg|kh|ki|km|kn|kp|kr|kw|ky|kz|la|lb|lc|li|lk|lr|ls|lt|lu|lv|ly|ma|mc|md|me|mg|mh|mk|ml|mm|mn|mo|mp|mq|mr|ms|mt|mu|mv|mw|mx|my|mz|na|nc|ne|nf|ng|ni|nl|no|np|nr|nu|nz|om|pa|pe|pf|pg|ph|pk|pl|pm|pn|pr|ps|pt|pw|py|qa|re|ro|rs|ru|rw|sa|sb|sc|sd|se|sg|sh|si|sj|Ja|sk|sl|sm|sn|so|sr|ss|st|su|sv|sx|sy|sz|tc|td|tf|tg|th|tj|tk|tl|tm|tn|to|tp|tr|tt|tv|tw|tz|ua|ug|uk|us|uy|uz|va|vc|ve|vg|vi|vn|vu|wf|ws|ye|yt|yu|za|zm|zw)\\b/?(?!@)))\"\"\"\n",
    "    return re.sub(URL_PATTERN, 'xxurl', text)\n",
    "\n",
    "def replace_rep(text):\n",
    "    def _replace_rep(m):\n",
    "        c,cc = m.groups()\n",
    "        return f'{c}xxrep'\n",
    "    re_rep = re.compile(r'(\\S)(\\1{2,})')\n",
    "    return re_rep.sub(_replace_rep, text)\n",
    "\n",
    "def ungroup_emoji(toks):\n",
    "    res = []\n",
    "    for tok in toks:\n",
    "        if emoji.emoji_count(tok) == len(tok):\n",
    "            for char in tok:\n",
    "                res.append(char)\n",
    "        else:\n",
    "            res.append(tok)\n",
    "    return res\n",
    "\n",
    "def process_text(text):\n",
    "    #pre rules\n",
    "    res = text.lower().strip()\n",
    "    res = replace_url(res)\n",
    "    res = replace_rep(res)\n",
    "    \n",
    "    #tokenize\n",
    "    res = [word for word in res.split('|') if word and not re.search(pattern=r\"\\s+\", string=word)]\n",
    "    \n",
    "    #post rules\n",
    "    res = ungroup_emoji(res)\n",
    "    \n",
    "    return res"
   ]
  },
  {
   "cell_type": "markdown",
   "metadata": {
    "colab_type": "text",
    "id": "P2khHc_Vub26"
   },
   "source": [
    "#Train-validation-test Split"
   ]
  },
  {
   "cell_type": "markdown",
   "metadata": {
    "colab_type": "text",
    "id": "lW3GhBIYucTu"
   },
   "source": [
    "We perform 85/15 train-validation split in addition to the test split by TrueVoice."
   ]
  },
  {
   "cell_type": "code",
   "execution_count": 35,
   "metadata": {
    "colab": {
     "base_uri": "https://localhost:8080/",
     "height": 34
    },
    "colab_type": "code",
    "id": "yE_eo0XBudjY",
    "outputId": "6f0f4619-0285-46f8-d0ad-1c49f906459d"
   },
   "outputs": [
    {
     "name": "stdout",
     "output_type": "stream",
     "text": [
      "(10303, 5) (2607, 5)\n"
     ]
    }
   ],
   "source": [
    "from sklearn.model_selection import train_test_split\n",
    "all_df = pd.read_csv(f'mari-train-balanced.csv')\n",
    "all_df['destination'] = all_df.destination.map(lambda x: x.replace(' ','_'))\n",
    "#train_df, valid_df = train_test_split(all_df, test_size=0.15, random_state=1412)\n",
    "train_df = all_df.reset_index(drop=True)\n",
    "#valid_df = valid_df.reset_index(drop=True)\n",
    "test_df = pd.read_csv(f'mari-test-balanced.csv')\n",
    "test_df['destination'] = test_df.destination.map(lambda x: x.replace(' ','_'))\n",
    "print(train_df.shape, test_df.shape)"
   ]
  },
  {
   "cell_type": "code",
   "execution_count": 36,
   "metadata": {
    "colab": {
     "base_uri": "https://localhost:8080/",
     "height": 156
    },
    "colab_type": "code",
    "id": "qM7z0r3cuiah",
    "outputId": "75ce74d7-2e72-48c7-d1ac-b8d5074d2266"
   },
   "outputs": [
    {
     "data": {
      "text/plain": [
       "billing_and_payment      0.376678\n",
       "promotions               0.220560\n",
       "other_queries            0.176064\n",
       "internet                 0.154200\n",
       "international_dialing    0.034522\n",
       "true_money               0.019946\n",
       "lost_and_stolen          0.018028\n",
       "Name: destination, dtype: float64"
      ]
     },
     "execution_count": 36,
     "metadata": {},
     "output_type": "execute_result"
    }
   ],
   "source": [
    "#test set prevalence\n",
    "test_df['destination'].value_counts() / test_df.shape[0]"
   ]
  },
  {
   "cell_type": "code",
   "execution_count": 37,
   "metadata": {
    "colab": {
     "base_uri": "https://localhost:8080/",
     "height": 34
    },
    "colab_type": "code",
    "id": "jR-p-LvCyLCQ",
    "outputId": "09fe0c89-5879-41e0-99fe-d7d269f03d46"
   },
   "outputs": [
    {
     "data": {
      "text/plain": [
       "<StrawberryFieldsGaussian device (wires=2, shots=1000) at 0x7fbf7b375eb8>"
      ]
     },
     "execution_count": 37,
     "metadata": {},
     "output_type": "execute_result"
    }
   ],
   "source": [
    "#!pip install pennylane pennylane-sf \n",
    "\n",
    "import pennylane\n",
    "pennylane.device(\"strawberryfields.gaussian\", wires=2) # ถ้า error ให้ restart runtime"
   ]
  },
  {
   "cell_type": "code",
   "execution_count": 38,
   "metadata": {
    "colab": {},
    "colab_type": "code",
    "id": "GE7ji8Afu1i0"
   },
   "outputs": [],
   "source": [
    "import tensorflow_hub as hub\n",
    "import tensorflow_text\n",
    "import tensorflow as tf #tensorflow 2.1.0\n",
    "from tensorflow.keras.callbacks import EarlyStopping\n",
    "\n",
    "from models_quantum import make_model_quantum\n",
    "enc = hub.load('https://tfhub.dev/google/universal-sentence-encoder-multilingual/3')"
   ]
  },
  {
   "cell_type": "code",
   "execution_count": 39,
   "metadata": {
    "colab": {},
    "colab_type": "code",
    "id": "AU93TIhL9dt5"
   },
   "outputs": [],
   "source": [
    "tf.keras.backend.set_floatx('float64') "
   ]
  },
  {
   "cell_type": "code",
   "execution_count": 40,
   "metadata": {
    "colab": {
     "base_uri": "https://localhost:8080/",
     "height": 34
    },
    "colab_type": "code",
    "id": "JYrSsp16vCEG",
    "outputId": "100492c5-8835-4005-be4f-b86dc6f5e789"
   },
   "outputs": [
    {
     "data": {
      "text/plain": [
       "((10303, 5), (2607, 5))"
      ]
     },
     "execution_count": 40,
     "metadata": {},
     "output_type": "execute_result"
    }
   ],
   "source": [
    "train_df.shape, test_df.shape"
   ]
  },
  {
   "cell_type": "code",
   "execution_count": 41,
   "metadata": {
    "colab": {},
    "colab_type": "code",
    "id": "BgW_rt-Q70zI"
   },
   "outputs": [],
   "source": [
    "\n",
    "def embed_text(X_txt):\n",
    "    print(\"Embedding input text...\")\n",
    "\n",
    "    X = np.array([np.array(x) for x in enc(X_txt)])\n",
    "\n",
    "    return X\n"
   ]
  },
  {
   "cell_type": "code",
   "execution_count": 42,
   "metadata": {
    "colab": {
     "base_uri": "https://localhost:8080/",
     "height": 34
    },
    "colab_type": "code",
    "id": "0KDwOad871or",
    "outputId": "19a79094-30ba-415a-c421-1731bdafee24"
   },
   "outputs": [
    {
     "name": "stdout",
     "output_type": "stream",
     "text": [
      "Embedding input text...\n"
     ]
    }
   ],
   "source": [
    "X_train = embed_text(train_df.texts)"
   ]
  },
  {
   "cell_type": "code",
   "execution_count": 43,
   "metadata": {
    "colab": {
     "base_uri": "https://localhost:8080/",
     "height": 34
    },
    "colab_type": "code",
    "id": "ek5c9Se38Q1M",
    "outputId": "f4d137b9-1fcc-4fb4-c14f-4e93c7ef70ff"
   },
   "outputs": [
    {
     "name": "stdout",
     "output_type": "stream",
     "text": [
      "Embedding input text...\n"
     ]
    }
   ],
   "source": [
    "X_test = embed_text(test_df.texts)"
   ]
  },
  {
   "cell_type": "code",
   "execution_count": 44,
   "metadata": {
    "colab": {},
    "colab_type": "code",
    "id": "VbFmlPij8DhX"
   },
   "outputs": [],
   "source": [
    "embedding_dim =X_train.shape[-1]"
   ]
  },
  {
   "cell_type": "code",
   "execution_count": 45,
   "metadata": {
    "colab": {
     "base_uri": "https://localhost:8080/",
     "height": 34
    },
    "colab_type": "code",
    "id": "9955xvCf8GkC",
    "outputId": "2733956b-2ba6-40de-cbf0-57a90a1f66c2"
   },
   "outputs": [
    {
     "data": {
      "text/plain": [
       "512"
      ]
     },
     "execution_count": 45,
     "metadata": {},
     "output_type": "execute_result"
    }
   ],
   "source": [
    "embedding_dim"
   ]
  },
  {
   "cell_type": "code",
   "execution_count": 46,
   "metadata": {
    "colab": {},
    "colab_type": "code",
    "id": "uOvGjuBP8a0r"
   },
   "outputs": [],
   "source": [
    "index = {j:i for i,j in enumerate(list(set(train_df[y].values)))}"
   ]
  },
  {
   "cell_type": "code",
   "execution_count": 47,
   "metadata": {
    "colab": {
     "base_uri": "https://localhost:8080/",
     "height": 139
    },
    "colab_type": "code",
    "id": "91SzueWK803P",
    "outputId": "89b07b61-6f2a-4126-956c-c16eb519561d"
   },
   "outputs": [
    {
     "data": {
      "text/plain": [
       "{'other_queries': 0,\n",
       " 'billing_and_payment': 1,\n",
       " 'lost_and_stolen': 2,\n",
       " 'promotions': 3,\n",
       " 'international_dialing': 4,\n",
       " 'internet': 5,\n",
       " 'true_money': 6}"
      ]
     },
     "execution_count": 47,
     "metadata": {},
     "output_type": "execute_result"
    }
   ],
   "source": [
    "index"
   ]
  },
  {
   "cell_type": "code",
   "execution_count": 48,
   "metadata": {
    "colab": {},
    "colab_type": "code",
    "id": "WWdADptxzscd"
   },
   "outputs": [],
   "source": [
    "from tensorflow.keras.utils import to_categorical"
   ]
  },
  {
   "cell_type": "code",
   "execution_count": 49,
   "metadata": {
    "colab": {},
    "colab_type": "code",
    "id": "EaT5r_uY83FC"
   },
   "outputs": [],
   "source": [
    "y_train = [index[i] for i in train_df[y].values]"
   ]
  },
  {
   "cell_type": "code",
   "execution_count": 50,
   "metadata": {
    "colab": {},
    "colab_type": "code",
    "id": "U_hWDbSq9Eli"
   },
   "outputs": [],
   "source": [
    "y_train = to_categorical(y_train)"
   ]
  },
  {
   "cell_type": "code",
   "execution_count": 51,
   "metadata": {
    "colab": {},
    "colab_type": "code",
    "id": "qKjiO4k59JI2"
   },
   "outputs": [],
   "source": [
    "y_test  = [index[i] for i in test_df[y].values]"
   ]
  },
  {
   "cell_type": "code",
   "execution_count": 52,
   "metadata": {
    "colab": {},
    "colab_type": "code",
    "id": "0g6OgQ0N9QA1"
   },
   "outputs": [],
   "source": [
    "y_test = to_categorical(y_test)"
   ]
  },
  {
   "cell_type": "code",
   "execution_count": 53,
   "metadata": {
    "colab": {},
    "colab_type": "code",
    "id": "6_vQxciywD-M"
   },
   "outputs": [],
   "source": [
    "N_EPOCHS = 20\n",
    "BATCH_SIZE = 32\n",
    "n_categories = 7"
   ]
  },
  {
   "cell_type": "code",
   "execution_count": 54,
   "metadata": {
    "colab": {},
    "colab_type": "code",
    "id": "DfTREGVewOKW"
   },
   "outputs": [],
   "source": [
    "embedding_dim = X_train.shape[-1]"
   ]
  },
  {
   "cell_type": "code",
   "execution_count": 55,
   "metadata": {
    "colab": {
     "base_uri": "https://localhost:8080/",
     "height": 382
    },
    "colab_type": "code",
    "id": "1XUom9cLx54O",
    "outputId": "d0e39948-5d48-4e9c-d6bb-638f22ab3631"
   },
   "outputs": [
    {
     "name": "stdout",
     "output_type": "stream",
     "text": [
      "Name: PennyLane\n",
      "Version: 0.9.0\n",
      "Summary: PennyLane is a Python quantum machine learning library by Xanadu Inc.\n",
      "Home-page: https://github.com/XanaduAI/pennylane\n",
      "Author: None\n",
      "Author-email: None\n",
      "License: Apache License 2.0\n",
      "Location: /usr/local/lib/python3.6/dist-packages\n",
      "Requires: appdirs, toml, autograd, networkx, numpy, scipy, semantic-version\n",
      "Required-by: PennyLane-SF\n",
      "Platform info:           Linux-4.15.0-72-generic-x86_64-with-Ubuntu-18.04-bionic\n",
      "Python version:          3.6.8\n",
      "Numpy version:           1.17.4\n",
      "Scipy version:           1.3.1\n",
      "Installed devices:\n",
      "- default.gaussian (PennyLane-0.9.0)\n",
      "- default.qubit (PennyLane-0.9.0)\n",
      "- default.tensor (PennyLane-0.9.0)\n",
      "- default.tensor.tf (PennyLane-0.9.0)\n",
      "- strawberryfields.fock (PennyLane-SF-0.9.0)\n",
      "- strawberryfields.gaussian (PennyLane-SF-0.9.0)\n"
     ]
    }
   ],
   "source": [
    "import pennylane as qml\n",
    "qml.about()"
   ]
  },
  {
   "cell_type": "code",
   "execution_count": 56,
   "metadata": {
    "colab": {},
    "colab_type": "code",
    "id": "NxfiUvZgvjeH"
   },
   "outputs": [],
   "source": [
    "model = make_model_quantum(n_categories=n_categories,  n_qubits=4, n_layers=3, embedding_dim=embedding_dim)"
   ]
  },
  {
   "cell_type": "code",
   "execution_count": 57,
   "metadata": {
    "colab": {
     "base_uri": "https://localhost:8080/",
     "height": 295
    },
    "colab_type": "code",
    "id": "3liwadIuw8Vp",
    "outputId": "98457989-a9b0-4de9-9a6a-9b5ee89659f9"
   },
   "outputs": [
    {
     "name": "stdout",
     "output_type": "stream",
     "text": [
      "Model: \"QuantumPreprintClassifier\"\n",
      "_________________________________________________________________\n",
      "Layer (type)                 Output Shape              Param #   \n",
      "=================================================================\n",
      "text_in (InputLayer)         [(None, 512)]             0         \n",
      "_________________________________________________________________\n",
      "dense_4 (Dense)              (None, 4)                 2052      \n",
      "_________________________________________________________________\n",
      "variational_quantum_circuit_ (None, 4)                 36        \n",
      "_________________________________________________________________\n",
      "dense_7 (Dense)              (None, 7)                 35        \n",
      "=================================================================\n",
      "Total params: 2,123\n",
      "Trainable params: 2,123\n",
      "Non-trainable params: 0\n",
      "_________________________________________________________________\n"
     ]
    }
   ],
   "source": [
    "model.summary()"
   ]
  },
  {
   "cell_type": "code",
   "execution_count": 58,
   "metadata": {
    "colab": {},
    "colab_type": "code",
    "id": "DefdeYw5xBgK"
   },
   "outputs": [],
   "source": [
    "optimizer = tf.keras.optimizers.Adam(learning_rate=0.01)"
   ]
  },
  {
   "cell_type": "code",
   "execution_count": 59,
   "metadata": {
    "colab": {},
    "colab_type": "code",
    "id": "gFxl2Oi0xD7A"
   },
   "outputs": [],
   "source": [
    "model.compile(optimizer, loss='categorical_crossentropy')"
   ]
  },
  {
   "cell_type": "code",
   "execution_count": 60,
   "metadata": {
    "colab": {},
    "colab_type": "code",
    "id": "v2ojQs91xG4o"
   },
   "outputs": [],
   "source": [
    "early_stopping_callback = EarlyStopping(monitor='val_loss', patience=3, min_delta=0.01,restore_best_weights=True)"
   ]
  },
  {
   "cell_type": "code",
   "execution_count": 61,
   "metadata": {},
   "outputs": [],
   "source": [
    "from matplotlib import pyplot as plt\n",
    "from IPython.display import clear_output\n",
    "import numpy as np"
   ]
  },
  {
   "cell_type": "code",
   "execution_count": 62,
   "metadata": {},
   "outputs": [],
   "source": [
    "class PlotLosses(tf.keras.callbacks.Callback): # code from https://gist.github.com/stared/dfb4dfaf6d9a8501cd1cc8b8cb806d2e\n",
    "    def on_train_begin(self, logs={}):\n",
    "        self.i = 0\n",
    "        self.x = []\n",
    "        self.losses = []\n",
    "        self.val_losses = []\n",
    "        \n",
    "        self.fig = plt.figure()\n",
    "        \n",
    "        self.logs = []\n",
    "\n",
    "    def on_epoch_end(self, epoch, logs={}):\n",
    "        \n",
    "        self.logs.append(logs)\n",
    "        self.x.append(self.i)\n",
    "        self.losses.append(logs.get('loss'))\n",
    "        self.val_losses.append(logs.get('val_loss'))\n",
    "        self.i += 1\n",
    "        \n",
    "        clear_output(wait=True)\n",
    "        plt.plot(self.x, self.losses, label=\"loss\")\n",
    "        plt.plot(self.x, self.val_losses, label=\"val_loss\")\n",
    "        plt.legend()\n",
    "        plt.show();\n",
    "        \n",
    "plot_losses = PlotLosses()"
   ]
  },
  {
   "cell_type": "code",
   "execution_count": 63,
   "metadata": {
    "colab": {},
    "colab_type": "code",
    "id": "KPC4ovcTxJFP"
   },
   "outputs": [],
   "source": [
    "callbacks = [early_stopping_callback,plot_losses]"
   ]
  },
  {
   "cell_type": "code",
   "execution_count": 64,
   "metadata": {
    "colab": {
     "base_uri": "https://localhost:8080/",
     "height": 52
    },
    "colab_type": "code",
    "id": "nq6vT4kPxKyj",
    "outputId": "efd627ce-814f-4d6d-9d85-3702e6620daf"
   },
   "outputs": [
    {
     "data": {
      "image/png": "[encoded data removed]",
      "text/plain": [
       "<Figure size 432x288 with 1 Axes>"
      ]
     },
     "metadata": {
      "needs_background": "light"
     },
     "output_type": "display_data"
    },
    {
     "name": "stdout",
     "output_type": "stream",
     "text": [
      "\b\b\b\b\b\b\b\b\b\b\b\b\b\b\b\b\b\b\b\b\b\b\b\b\b\b\b\b\b\b\b\b\b\b\b\b\b\b\b\b\b\b\b\b\b\b\b\b\b\b\b\b\b\b\b\b\b\b\b\b\b\b\b\b\b\r",
      "274/274 [==============================] - 3209s 12s/step - loss: 0.5256 - val_loss: 0.5990\n"
     ]
    }
   ],
   "source": [
    "history = model.fit(X_train, y_train,epochs=N_EPOCHS, batch_size=BATCH_SIZE,validation_split=0.15,callbacks =callbacks)"
   ]
  },
  {
   "cell_type": "code",
   "execution_count": 66,
   "metadata": {
    "colab": {},
    "colab_type": "code",
    "id": "Jj-BXHIvAYfk"
   },
   "outputs": [
    {
     "data": {
      "text/plain": [
       "array([[3.70255528e-02, 7.62594837e-01, 2.23173318e-03, ...,\n",
       "        1.52303516e-04, 5.57465622e-02, 1.40657142e-03],\n",
       "       [2.17854399e-02, 2.33223092e-02, 4.43345599e-04, ...,\n",
       "        1.40323680e-03, 6.00061262e-03, 1.94607543e-04],\n",
       "       [7.96126955e-03, 9.75440668e-01, 1.21422228e-03, ...,\n",
       "        3.99320930e-05, 5.49612634e-03, 1.89945120e-03],\n",
       "       ...,\n",
       "       [6.83175325e-01, 2.75767411e-02, 5.98708792e-02, ...,\n",
       "        4.70041373e-02, 1.12416090e-01, 3.57558300e-03],\n",
       "       [4.51997391e-02, 5.54229024e-02, 9.59489261e-04, ...,\n",
       "        8.83238246e-04, 1.52961508e-02, 2.39712495e-04],\n",
       "       [1.32345636e-02, 3.55008743e-02, 1.21654943e-03, ...,\n",
       "        2.69381894e-04, 9.15894139e-01, 1.22652911e-03]])"
      ]
     },
     "execution_count": 66,
     "metadata": {},
     "output_type": "execute_result"
    }
   ],
   "source": [
    "model.predict(X_test)"
   ]
  },
  {
   "cell_type": "code",
   "execution_count": 67,
   "metadata": {
    "colab": {},
    "colab_type": "code",
    "id": "-LhjNdd1xNbM"
   },
   "outputs": [
    {
     "name": "stdout",
     "output_type": "stream",
     "text": [
      "82/82 - 125s - loss: 0.6645\n"
     ]
    }
   ],
   "source": [
    "test_score = model.evaluate(X_test, y_test, verbose=2)"
   ]
  },
  {
   "cell_type": "code",
   "execution_count": 68,
   "metadata": {
    "colab": {},
    "colab_type": "code",
    "id": "hk2bE81S97mf"
   },
   "outputs": [
    {
     "name": "stdout",
     "output_type": "stream",
     "text": [
      "0.6645362609229327\n"
     ]
    }
   ],
   "source": [
    "print(test_score)"
   ]
  },
  {
   "cell_type": "code",
   "execution_count": 69,
   "metadata": {
    "colab": {},
    "colab_type": "code",
    "id": "IcbHd_ARey7W"
   },
   "outputs": [],
   "source": [
    "t=model.predict(X_test)"
   ]
  },
  {
   "cell_type": "code",
   "execution_count": 70,
   "metadata": {
    "colab": {},
    "colab_type": "code",
    "id": "wAm_hx-we1hX"
   },
   "outputs": [],
   "source": [
    "val2tag = {i:j for i,j in zip(index.values(),index.keys())}"
   ]
  },
  {
   "cell_type": "code",
   "execution_count": 71,
   "metadata": {
    "colab": {},
    "colab_type": "code",
    "id": "j7HHjUY3e6km"
   },
   "outputs": [],
   "source": [
    "y_true = list(test_df[y].values)"
   ]
  },
  {
   "cell_type": "code",
   "execution_count": 72,
   "metadata": {
    "colab": {},
    "colab_type": "code",
    "id": "0aQGZRF5e-EA"
   },
   "outputs": [],
   "source": [
    "y_pred = [val2tag[list(i).index(i.max())] for i in t]"
   ]
  },
  {
   "cell_type": "code",
   "execution_count": 73,
   "metadata": {
    "colab": {},
    "colab_type": "code",
    "id": "nsEOtzdXe__Y"
   },
   "outputs": [
    {
     "name": "stdout",
     "output_type": "stream",
     "text": [
      "                       precision    recall  f1-score   support\n",
      "\n",
      "  billing_and_payment       0.84      0.83      0.84       982\n",
      "international_dialing       0.76      0.73      0.75        90\n",
      "             internet       0.74      0.74      0.74       402\n",
      "      lost_and_stolen       0.00      0.00      0.00        47\n",
      "        other_queries       0.69      0.74      0.71       459\n",
      "           promotions       0.78      0.85      0.81       575\n",
      "           true_money       0.90      0.37      0.52        52\n",
      "\n",
      "             accuracy                           0.78      2607\n",
      "            macro avg       0.67      0.61      0.62      2607\n",
      "         weighted avg       0.77      0.78      0.77      2607\n",
      "\n"
     ]
    },
    {
     "name": "stderr",
     "output_type": "stream",
     "text": [
      "/usr/local/lib/python3.6/dist-packages/sklearn/metrics/_classification.py:1272: UndefinedMetricWarning: Precision and F-score are ill-defined and being set to 0.0 in labels with no predicted samples. Use `zero_division` parameter to control this behavior.\n"
     ]
    }
   ],
   "source": [
    "from sklearn.metrics import classification_report\n",
    "print(classification_report(y_true, y_pred))"
   ]
  }
 ],
 "metadata": {
  "accelerator": "GPU",
  "colab": {
   "collapsed_sections": [],
   "name": "Copy of what-the-quantum.ipynb",
   "provenance": []
  },
  "kernelspec": {
   "display_name": "Python 3",
   "language": "python",
   "name": "python3"
  },
  "language_info": {
   "codemirror_mode": {
    "name": "ipython",
    "version": 3
   },
   "file_extension": ".py",
   "mimetype": "text/x-python",
   "name": "python",
   "nbconvert_exporter": "python",
   "pygments_lexer": "ipython3",
   "version": "3.6.8"
  }
 },
 "nbformat": 4,
 "nbformat_minor": 1
}
